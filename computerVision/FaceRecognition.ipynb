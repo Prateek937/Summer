{
 "metadata": {
  "language_info": {
   "codemirror_mode": {
    "name": "ipython",
    "version": 3
   },
   "file_extension": ".py",
   "mimetype": "text/x-python",
   "name": "python",
   "nbconvert_exporter": "python",
   "pygments_lexer": "ipython3",
   "version": "3.9.5"
  },
  "orig_nbformat": 2,
  "kernelspec": {
   "name": "python395jvsc74a57bd0767d51c1340bd893661ea55ea3124f6de3c7a262a8b4abca0554b478b1e2ff90",
   "display_name": "Python 3.9.5 64-bit ('base': conda)"
  },
  "metadata": {
   "interpreter": {
    "hash": "767d51c1340bd893661ea55ea3124f6de3c7a262a8b4abca0554b478b1e2ff90"
   }
  }
 },
 "nbformat": 4,
 "nbformat_minor": 2,
 "cells": [
  {
   "cell_type": "code",
   "execution_count": 1,
   "metadata": {},
   "outputs": [],
   "source": [
    "import cv2"
   ]
  },
  {
   "cell_type": "code",
   "execution_count": 2,
   "metadata": {},
   "outputs": [],
   "source": [
    "photo = cv2.imread(\"Elon.jpg\")"
   ]
  },
  {
   "cell_type": "code",
   "execution_count": 3,
   "metadata": {},
   "outputs": [
    {
     "output_type": "execute_result",
     "data": {
      "text/plain": [
       "(900, 1600, 3)"
      ]
     },
     "metadata": {},
     "execution_count": 3
    }
   ],
   "source": [
    "photo.shape"
   ]
  },
  {
   "cell_type": "code",
   "execution_count": 4,
   "metadata": {},
   "outputs": [],
   "source": [
    "def show(image):\n",
    "    # to open the photo\n",
    "    cv2.imshow(\"Hello\", image)\n",
    "    # don't pass anything for opening for forever\n",
    "    cv2.waitKey()\n",
    "    # to prevent the program from crashing\n",
    "    # to close the window, click on the image and press enter.\n",
    "    cv2.destroyAllWindows()"
   ]
  },
  {
   "cell_type": "code",
   "execution_count": 5,
   "metadata": {},
   "outputs": [],
   "source": [
    "show(photo)"
   ]
  },
  {
   "cell_type": "code",
   "execution_count": 6,
   "metadata": {},
   "outputs": [],
   "source": [
    "# Drawing rectangle on the face\n",
    "'''\n",
    "- Parameters:\n",
    "image, first coordinate, third cooridnate, color, width\n",
    "\n",
    "Here, we are doing hit and trial for the coordinates around the face.\n",
    "'''\n",
    "rphoto = cv2.rectangle(photo, (100,100), (300, 400), [0, 255, 0], 5)"
   ]
  },
  {
   "cell_type": "code",
   "execution_count": 7,
   "metadata": {},
   "outputs": [],
   "source": [
    "show(rphoto)"
   ]
  },
  {
   "cell_type": "code",
   "execution_count": 8,
   "metadata": {},
   "outputs": [
    {
     "output_type": "execute_result",
     "data": {
      "text/plain": [
       "'\\nThere are many pretrained models which can detect the faces. One of the model is given below.\\nDownload this CascadeClassifier using command: \\n$ wget https://raw.githubusercontent.com/opencv/opencv/master/data/haarcascades/haarcascade_frontalface_default.xml\\n\\n(OR)\\n\\nGo to the link :-\\nhttps://raw.githubusercontent.com/opencv/opencv/master/data/haarcascades/haarcascade_frontalface_default.xml\\n'"
      ]
     },
     "metadata": {},
     "execution_count": 8
    }
   ],
   "source": [
    "'''\n",
    "There are many pretrained models which can detect the faces. One of the model is given below.\n",
    "Download this CascadeClassifier using command: \n",
    "$ wget https://raw.githubusercontent.com/opencv/opencv/master/data/haarcascades/haarcascade_frontalface_default.xml\n",
    "\n",
    "(OR)\n",
    "\n",
    "Go to the link :-\n",
    "https://raw.githubusercontent.com/opencv/opencv/master/data/haarcascades/haarcascade_frontalface_default.xml\n",
    "'''\n",
    "\n"
   ]
  },
  {
   "cell_type": "code",
   "execution_count": 9,
   "metadata": {},
   "outputs": [],
   "source": [
    "# Loading the classifier/Model\n",
    "model = cv2.CascadeClassifier('haarcascade_frontalface_default.xml')"
   ]
  },
  {
   "cell_type": "code",
   "execution_count": 10,
   "metadata": {},
   "outputs": [],
   "source": [
    "# Detect faces\n",
    "faces = model.detectMultiScale(photo)"
   ]
  },
  {
   "cell_type": "code",
   "execution_count": 11,
   "metadata": {},
   "outputs": [
    {
     "output_type": "stream",
     "name": "stdout",
     "text": [
      "Total faces:  1\nArray:  [[617  96 242 242]]\n"
     ]
    }
   ],
   "source": [
    "print(\"Total faces: \", len(faces))\n",
    "print(\"Array: \", faces)"
   ]
  },
  {
   "cell_type": "code",
   "execution_count": 12,
   "metadata": {},
   "outputs": [],
   "source": [
    "x1 = faces[0][0]\n",
    "y1 = faces[0][1]\n",
    "x2 = x1 + faces[0][2]\n",
    "y2 = y1 + faces[0][3]"
   ]
  },
  {
   "cell_type": "code",
   "execution_count": 13,
   "metadata": {},
   "outputs": [],
   "source": [
    "Model_photo = cv2.rectangle(photo, (x1,y1), (x2, y2), [0, 255, 0], 5)"
   ]
  },
  {
   "cell_type": "code",
   "execution_count": 14,
   "metadata": {},
   "outputs": [],
   "source": [
    "show(Model_photo)"
   ]
  },
  {
   "cell_type": "code",
   "execution_count": 15,
   "metadata": {},
   "outputs": [],
   "source": [
    "def videoWithRect():\n",
    "    while True:\n",
    "        # Capture the photo.\n",
    "        ret, photoCap = cap.read()\n",
    "\n",
    "        # to crop the video\n",
    "        #cphoto = photo[100:400, 50:350]\n",
    "\n",
    "        faces = model.detectMultiScale(photoCap)\n",
    "        # if any faces not found, don't do anything else show the video.\n",
    "        if len(faces) == 0:\n",
    "            pass\n",
    "        else:\n",
    "            x1 = faces[0][0]\n",
    "            y1 = faces[0][1]\n",
    "            x2 = x1 + faces[0][2]\n",
    "            y2 = y1 + faces[0][3]\n",
    "            \n",
    "            # Returns the Rectangle drawn image.\n",
    "            Model_photo = cv2.rectangle(photoCap, (x1,y1), (x2, y2), [0, 255, 0], 5)\n",
    "\n",
    "            # Open the photo.\n",
    "            cv2.imshow(\"Hello\", Model_photo)\n",
    "            # 13 is key for \"ENTER\" key\n",
    "            if cv2.waitKey(1) == 13:\n",
    "                break\n",
    "    # to prevent the program from crashing\n",
    "    # to close the window, click on the image and press enter.\n",
    "    cv2.destroyAllWindows()"
   ]
  },
  {
   "cell_type": "code",
   "execution_count": 16,
   "metadata": {},
   "outputs": [],
   "source": [
    "cap = cv2.VideoCapture(0)\n",
    "videoWithRect()"
   ]
  },
  {
   "cell_type": "code",
   "execution_count": 17,
   "metadata": {},
   "outputs": [],
   "source": [
    "cap.release()"
   ]
  },
  {
   "cell_type": "code",
   "execution_count": null,
   "metadata": {},
   "outputs": [],
   "source": []
  }
 ]
}