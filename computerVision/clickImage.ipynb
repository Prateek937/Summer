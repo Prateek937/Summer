{
 "metadata": {
  "language_info": {
   "codemirror_mode": {
    "name": "ipython",
    "version": 3
   },
   "file_extension": ".py",
   "mimetype": "text/x-python",
   "name": "python",
   "nbconvert_exporter": "python",
   "pygments_lexer": "ipython3",
   "version": "3.9.5"
  },
  "orig_nbformat": 2,
  "kernelspec": {
   "name": "python3",
   "display_name": "Python 3",
   "language": "python"
  }
 },
 "nbformat": 4,
 "nbformat_minor": 2,
 "cells": [
  {
   "cell_type": "code",
   "execution_count": 1,
   "metadata": {},
   "outputs": [],
   "source": [
    "import cv2"
   ]
  },
  {
   "cell_type": "code",
   "execution_count": 2,
   "metadata": {},
   "outputs": [],
   "source": [
    "# for using the camera\n",
    "cap = cv2.VideoCapture(0)"
   ]
  },
  {
   "cell_type": "code",
   "execution_count": 3,
   "metadata": {},
   "outputs": [],
   "source": [
    "# cap.read() returns return value and the image\n",
    "ret, photo = cap.read()"
   ]
  },
  {
   "cell_type": "code",
   "execution_count": 4,
   "metadata": {},
   "outputs": [],
   "source": [
    "# release the camera. \n",
    "cap.release()"
   ]
  },
  {
   "cell_type": "code",
   "execution_count": 5,
   "metadata": {},
   "outputs": [
    {
     "output_type": "execute_result",
     "data": {
      "text/plain": [
       "array([[[196, 195, 197],\n",
       "        [194, 194, 196],\n",
       "        [194, 194, 196],\n",
       "        ...,\n",
       "        [102, 111, 125],\n",
       "        [102, 105, 129],\n",
       "        [ 97, 100, 125]],\n",
       "\n",
       "       [[194, 194, 196],\n",
       "        [196, 195, 197],\n",
       "        [194, 194, 196],\n",
       "        ...,\n",
       "        [104, 111, 124],\n",
       "        [102, 106, 126],\n",
       "        [ 98, 103, 123]],\n",
       "\n",
       "       [[196, 196, 196],\n",
       "        [196, 196, 196],\n",
       "        [196, 196, 196],\n",
       "        ...,\n",
       "        [105, 114, 122],\n",
       "        [103, 109, 124],\n",
       "        [100, 107, 122]],\n",
       "\n",
       "       ...,\n",
       "\n",
       "       [[126, 124, 129],\n",
       "        [126, 124, 129],\n",
       "        [126, 124, 129],\n",
       "        ...,\n",
       "        [ 82,  85,  98],\n",
       "        [ 82,  85,  98],\n",
       "        [ 81,  84,  97]],\n",
       "\n",
       "       [[125, 123, 128],\n",
       "        [126, 124, 129],\n",
       "        [126, 124, 129],\n",
       "        ...,\n",
       "        [ 82,  85,  98],\n",
       "        [ 82,  85,  98],\n",
       "        [ 81,  84,  97]],\n",
       "\n",
       "       [[125, 123, 128],\n",
       "        [126, 124, 129],\n",
       "        [126, 123, 130],\n",
       "        ...,\n",
       "        [ 82,  85,  98],\n",
       "        [ 82,  85,  98],\n",
       "        [ 81,  84,  97]]], dtype=uint8)"
      ]
     },
     "metadata": {},
     "execution_count": 5
    }
   ],
   "source": [
    "photo"
   ]
  },
  {
   "cell_type": "code",
   "execution_count": 6,
   "metadata": {},
   "outputs": [
    {
     "output_type": "execute_result",
     "data": {
      "text/plain": [
       "True"
      ]
     },
     "metadata": {},
     "execution_count": 6
    }
   ],
   "source": [
    "ret"
   ]
  },
  {
   "cell_type": "code",
   "execution_count": 7,
   "metadata": {},
   "outputs": [
    {
     "output_type": "execute_result",
     "data": {
      "text/plain": [
       "True"
      ]
     },
     "metadata": {},
     "execution_count": 7
    }
   ],
   "source": [
    "# save the image\n",
    "cv2.imwrite(\"myphoto.jpg\", photo)"
   ]
  },
  {
   "cell_type": "code",
   "execution_count": 8,
   "metadata": {},
   "outputs": [],
   "source": [
    "# to open the photo\n",
    "cv2.imshow(\"myphoto\", photo)\n",
    "\n",
    "# don't pass anything for opening for forever\n",
    "cv2.waitKey()\n",
    "# to prevent the program from crashing\n",
    "# to close the window, click on the image and press enter.\n",
    "cv2.destroyAllWindows()"
   ]
  },
  {
   "cell_type": "code",
   "execution_count": null,
   "metadata": {},
   "outputs": [],
   "source": []
  },
  {
   "cell_type": "code",
   "execution_count": null,
   "metadata": {},
   "outputs": [],
   "source": []
  },
  {
   "cell_type": "code",
   "execution_count": null,
   "metadata": {},
   "outputs": [],
   "source": []
  },
  {
   "cell_type": "code",
   "execution_count": null,
   "metadata": {},
   "outputs": [],
   "source": []
  },
  {
   "cell_type": "code",
   "execution_count": null,
   "metadata": {},
   "outputs": [],
   "source": []
  }
 ]
}