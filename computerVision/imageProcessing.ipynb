{
 "metadata": {
  "language_info": {
   "codemirror_mode": {
    "name": "ipython",
    "version": 3
   },
   "file_extension": ".py",
   "mimetype": "text/x-python",
   "name": "python",
   "nbconvert_exporter": "python",
   "pygments_lexer": "ipython3",
   "version": "3.9.5"
  },
  "orig_nbformat": 2,
  "kernelspec": {
   "name": "python395jvsc74a57bd0767d51c1340bd893661ea55ea3124f6de3c7a262a8b4abca0554b478b1e2ff90",
   "display_name": "Python 3.9.5 64-bit ('base': conda)"
  },
  "metadata": {
   "interpreter": {
    "hash": "767d51c1340bd893661ea55ea3124f6de3c7a262a8b4abca0554b478b1e2ff90"
   }
  }
 },
 "nbformat": 4,
 "nbformat_minor": 2,
 "cells": [
  {
   "cell_type": "code",
   "execution_count": 2,
   "metadata": {},
   "outputs": [],
   "source": [
    "import cv2\n",
    "import numpy as np"
   ]
  },
  {
   "cell_type": "code",
   "execution_count": 3,
   "metadata": {},
   "outputs": [],
   "source": [
    "photo = cv2.imread('myphoto.jpg')"
   ]
  },
  {
   "cell_type": "code",
   "execution_count": 24,
   "metadata": {},
   "outputs": [],
   "source": [
    "def show(image):\n",
    "    # to open the photo\n",
    "    cv2.imshow(\"Hello\", image)\n",
    "    # don't pass anything for opening for forever\n",
    "    cv2.waitKey()\n",
    "    # to prevent the program from crashing\n",
    "    # to close the window, click on the image and press enter.\n",
    "    cv2.destroyAllWindows()"
   ]
  },
  {
   "cell_type": "code",
   "execution_count": 5,
   "metadata": {},
   "outputs": [
    {
     "output_type": "execute_result",
     "data": {
      "text/plain": [
       "array([[ 1,  2,  3,  4],\n",
       "       [ 5,  6,  7,  8],\n",
       "       [ 9, 10, 11, 12]])"
      ]
     },
     "metadata": {},
     "execution_count": 5
    }
   ],
   "source": [
    "np.array([[1,2,3,4], [5,6,7,8], [9,10,11,12]])"
   ]
  },
  {
   "cell_type": "code",
   "execution_count": 6,
   "metadata": {},
   "outputs": [
    {
     "output_type": "execute_result",
     "data": {
      "text/plain": [
       "(480, 640, 3)"
      ]
     },
     "metadata": {},
     "execution_count": 6
    }
   ],
   "source": [
    "# Image is a 3D array\n",
    "photo.shape"
   ]
  },
  {
   "cell_type": "code",
   "execution_count": 7,
   "metadata": {},
   "outputs": [
    {
     "output_type": "execute_result",
     "data": {
      "text/plain": [
       "array([[[195, 194, 196],\n",
       "        [195, 194, 196],\n",
       "        [195, 194, 196],\n",
       "        ...,\n",
       "        [104, 111, 126],\n",
       "        [101, 107, 126],\n",
       "        [ 96, 102, 121]],\n",
       "\n",
       "       [[195, 194, 196],\n",
       "        [195, 194, 196],\n",
       "        [195, 194, 196],\n",
       "        ...,\n",
       "        [103, 111, 124],\n",
       "        [101, 108, 125],\n",
       "        [ 98, 105, 122]],\n",
       "\n",
       "       [[196, 195, 197],\n",
       "        [196, 195, 197],\n",
       "        [195, 194, 196],\n",
       "        ...,\n",
       "        [106, 113, 122],\n",
       "        [104, 110, 123],\n",
       "        [101, 107, 120]],\n",
       "\n",
       "       ...,\n",
       "\n",
       "       [[126, 125, 129],\n",
       "        [126, 125, 129],\n",
       "        [126, 125, 129],\n",
       "        ...,\n",
       "        [ 82,  86,  97],\n",
       "        [ 82,  86,  97],\n",
       "        [ 82,  86,  97]],\n",
       "\n",
       "       [[126, 124, 130],\n",
       "        [126, 124, 130],\n",
       "        [126, 124, 130],\n",
       "        ...,\n",
       "        [ 82,  85,  99],\n",
       "        [ 81,  84,  98],\n",
       "        [ 81,  84,  98]],\n",
       "\n",
       "       [[125, 123, 129],\n",
       "        [125, 123, 129],\n",
       "        [126, 124, 130],\n",
       "        ...,\n",
       "        [ 82,  85,  99],\n",
       "        [ 81,  84,  98],\n",
       "        [ 81,  84,  98]]], dtype=uint8)"
      ]
     },
     "metadata": {},
     "execution_count": 7
    }
   ],
   "source": [
    "photo"
   ]
  },
  {
   "cell_type": "code",
   "execution_count": 8,
   "metadata": {},
   "outputs": [
    {
     "output_type": "execute_result",
     "data": {
      "text/plain": [
       "array([[195, 194, 196],\n",
       "       [195, 194, 196],\n",
       "       [195, 194, 196],\n",
       "       ...,\n",
       "       [104, 111, 126],\n",
       "       [101, 107, 126],\n",
       "       [ 96, 102, 121]], dtype=uint8)"
      ]
     },
     "metadata": {},
     "execution_count": 8
    }
   ],
   "source": [
    "photo[0]"
   ]
  },
  {
   "cell_type": "code",
   "execution_count": 9,
   "metadata": {},
   "outputs": [
    {
     "output_type": "execute_result",
     "data": {
      "text/plain": [
       "array([195, 194, 196], dtype=uint8)"
      ]
     },
     "metadata": {},
     "execution_count": 9
    }
   ],
   "source": [
    "# first picture\n",
    "photo[0][0]"
   ]
  },
  {
   "cell_type": "code",
   "execution_count": 10,
   "metadata": {},
   "outputs": [],
   "source": [
    "# Changing the first pixel to Red\n",
    "photo[0][0] = [255,0,0]"
   ]
  },
  {
   "cell_type": "code",
   "execution_count": 11,
   "metadata": {},
   "outputs": [],
   "source": [
    "# croping the  photo\n",
    "photo_crop = photo[50:500][100:400]"
   ]
  },
  {
   "cell_type": "code",
   "execution_count": 13,
   "metadata": {},
   "outputs": [
    {
     "output_type": "execute_result",
     "data": {
      "text/plain": [
       "array([[[255,   0,   0],\n",
       "        [195, 194, 196],\n",
       "        [195, 194, 196],\n",
       "        ...,\n",
       "        [104, 111, 126],\n",
       "        [101, 107, 126],\n",
       "        [ 96, 102, 121]],\n",
       "\n",
       "       [[195, 194, 196],\n",
       "        [195, 194, 196],\n",
       "        [195, 194, 196],\n",
       "        ...,\n",
       "        [103, 111, 124],\n",
       "        [101, 108, 125],\n",
       "        [ 98, 105, 122]],\n",
       "\n",
       "       [[196, 195, 197],\n",
       "        [196, 195, 197],\n",
       "        [195, 194, 196],\n",
       "        ...,\n",
       "        [106, 113, 122],\n",
       "        [104, 110, 123],\n",
       "        [101, 107, 120]],\n",
       "\n",
       "       ...,\n",
       "\n",
       "       [[126, 125, 129],\n",
       "        [126, 125, 129],\n",
       "        [126, 125, 129],\n",
       "        ...,\n",
       "        [ 82,  86,  97],\n",
       "        [ 82,  86,  97],\n",
       "        [ 82,  86,  97]],\n",
       "\n",
       "       [[126, 124, 130],\n",
       "        [126, 124, 130],\n",
       "        [126, 124, 130],\n",
       "        ...,\n",
       "        [ 82,  85,  99],\n",
       "        [ 81,  84,  98],\n",
       "        [ 81,  84,  98]],\n",
       "\n",
       "       [[125, 123, 129],\n",
       "        [125, 123, 129],\n",
       "        [126, 124, 130],\n",
       "        ...,\n",
       "        [ 82,  85,  99],\n",
       "        [ 81,  84,  98],\n",
       "        [ 81,  84,  98]]], dtype=uint8)"
      ]
     },
     "metadata": {},
     "execution_count": 13
    }
   ],
   "source": [
    "photo"
   ]
  },
  {
   "cell_type": "code",
   "execution_count": 25,
   "metadata": {},
   "outputs": [],
   "source": [
    "show(photo)"
   ]
  },
  {
   "cell_type": "code",
   "execution_count": 20,
   "metadata": {},
   "outputs": [],
   "source": [
    "# zero 3D matrix of 100*100\n",
    "cn = np.zeros((100,100))"
   ]
  },
  {
   "cell_type": "code",
   "execution_count": 21,
   "metadata": {},
   "outputs": [
    {
     "output_type": "execute_result",
     "data": {
      "text/plain": [
       "(100, 100)"
      ]
     },
     "metadata": {},
     "execution_count": 21
    }
   ],
   "source": [
    "cn.shape"
   ]
  },
  {
   "cell_type": "code",
   "execution_count": 26,
   "metadata": {},
   "outputs": [],
   "source": [
    "GPhoto = cv2.cvtColor(photo, cv2.COLOR_BGR2GRAY)"
   ]
  },
  {
   "cell_type": "code",
   "execution_count": 27,
   "metadata": {},
   "outputs": [],
   "source": [
    "show(GPhoto)"
   ]
  },
  {
   "cell_type": "code",
   "execution_count": null,
   "metadata": {},
   "outputs": [],
   "source": []
  }
 ]
}