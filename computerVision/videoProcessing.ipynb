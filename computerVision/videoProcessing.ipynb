{
 "metadata": {
  "language_info": {
   "codemirror_mode": {
    "name": "ipython",
    "version": 3
   },
   "file_extension": ".py",
   "mimetype": "text/x-python",
   "name": "python",
   "nbconvert_exporter": "python",
   "pygments_lexer": "ipython3",
   "version": "3.9.5"
  },
  "orig_nbformat": 2,
  "kernelspec": {
   "name": "python395jvsc74a57bd0767d51c1340bd893661ea55ea3124f6de3c7a262a8b4abca0554b478b1e2ff90",
   "display_name": "Python 3.9.5 64-bit ('base': conda)"
  },
  "metadata": {
   "interpreter": {
    "hash": "767d51c1340bd893661ea55ea3124f6de3c7a262a8b4abca0554b478b1e2ff90"
   }
  }
 },
 "nbformat": 4,
 "nbformat_minor": 2,
 "cells": [
  {
   "cell_type": "code",
   "execution_count": 1,
   "metadata": {},
   "outputs": [],
   "source": [
    "import cv2\n",
    "import numpy as np"
   ]
  },
  {
   "cell_type": "code",
   "execution_count": 2,
   "metadata": {},
   "outputs": [],
   "source": [
    "cap = cv2.VideoCapture(0)"
   ]
  },
  {
   "cell_type": "code",
   "execution_count": 3,
   "metadata": {},
   "outputs": [],
   "source": [
    "ret, photo = cap.read()"
   ]
  },
  {
   "cell_type": "code",
   "execution_count": 8,
   "metadata": {},
   "outputs": [
    {
     "output_type": "execute_result",
     "data": {
      "text/plain": [
       "array([[[23, 14, 15],\n",
       "        [24, 15, 16],\n",
       "        [24, 15, 16],\n",
       "        ...,\n",
       "        [26, 16, 17],\n",
       "        [26, 16, 17],\n",
       "        [24, 15, 16]],\n",
       "\n",
       "       [[23, 14, 14],\n",
       "        [24, 16, 15],\n",
       "        [24, 15, 16],\n",
       "        ...,\n",
       "        [26, 16, 17],\n",
       "        [26, 16, 17],\n",
       "        [24, 15, 16]],\n",
       "\n",
       "       [[24, 16, 15],\n",
       "        [26, 17, 16],\n",
       "        [26, 17, 16],\n",
       "        ...,\n",
       "        [24, 15, 16],\n",
       "        [24, 14, 18],\n",
       "        [24, 14, 18]],\n",
       "\n",
       "       ...,\n",
       "\n",
       "       [[11,  3,  5],\n",
       "        [11,  3,  5],\n",
       "        [11,  3,  5],\n",
       "        ...,\n",
       "        [15,  5,  7],\n",
       "        [15,  5,  7],\n",
       "        [15,  5,  7]],\n",
       "\n",
       "       [[11,  3,  5],\n",
       "        [11,  3,  5],\n",
       "        [13,  3,  5],\n",
       "        ...,\n",
       "        [13,  6,  7],\n",
       "        [13,  6,  7],\n",
       "        [13,  6,  7]],\n",
       "\n",
       "       [[11,  3,  5],\n",
       "        [11,  3,  5],\n",
       "        [13,  3,  5],\n",
       "        ...,\n",
       "        [13,  6,  7],\n",
       "        [13,  6,  7],\n",
       "        [13,  6,  7]]], dtype=uint8)"
      ]
     },
     "metadata": {},
     "execution_count": 8
    }
   ],
   "source": [
    "a = photo.shape\n",
    "type(a)\n",
    "photo"
   ]
  },
  {
   "cell_type": "code",
   "execution_count": 24,
   "metadata": {},
   "outputs": [],
   "source": [
    "def video():\n",
    "    while True:\n",
    "        ret, photo = cap.read()\n",
    "\n",
    "        # to crop the video\n",
    "        #cphoto = photo[100:400, 50:350]\n",
    "\n",
    "        Gphoto = cv2.cvtColor(photo, cv2.COLOR_BGR2GRAY)\n",
    "        # to open the photo\n",
    "        cv2.imshow(\"Hello\", Gphoto)\n",
    "        # don't pass anything for opening for forever\n",
    "cv2.waitKey(1)\n",
    "        # 13 is key for \"ENTER\" key\n",
    "        if cv2.waitKey(1) == 13:\n",
    "            break\n",
    "        # to prevent the program from crashing\n",
    "        # to close the window, click on the image and press enter.\n",
    "    cv2.destroyAllWindows()"
   ]
  },
  {
   "cell_type": "code",
   "execution_count": 25,
   "metadata": {},
   "outputs": [],
   "source": [
    "video()"
   ]
  },
  {
   "cell_type": "code",
   "execution_count": 7,
   "metadata": {},
   "outputs": [],
   "source": [
    "cap.release()\n"
   ]
  },
  {
   "cell_type": "code",
   "execution_count": null,
   "metadata": {},
   "outputs": [],
   "source": []
  }
 ]
}