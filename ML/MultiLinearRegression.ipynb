{
 "metadata": {
  "language_info": {
   "codemirror_mode": {
    "name": "ipython",
    "version": 3
   },
   "file_extension": ".py",
   "mimetype": "text/x-python",
   "name": "python",
   "nbconvert_exporter": "python",
   "pygments_lexer": "ipython3",
   "version": "3.9.5"
  },
  "orig_nbformat": 2,
  "kernelspec": {
   "name": "python3",
   "display_name": "Python 3",
   "language": "python"
  }
 },
 "nbformat": 4,
 "nbformat_minor": 2,
 "cells": [
  {
   "cell_type": "code",
   "execution_count": 48,
   "metadata": {},
   "outputs": [],
   "source": [
    "import pandas as pd\n",
    "import numpy as np"
   ]
  },
  {
   "cell_type": "code",
   "execution_count": 7,
   "metadata": {},
   "outputs": [],
   "source": [
    "data = pd.read_csv(\"50_Startups.csv\")"
   ]
  },
  {
   "cell_type": "code",
   "execution_count": 8,
   "metadata": {},
   "outputs": [
    {
     "output_type": "execute_result",
     "data": {
      "text/plain": [
       "   R&D Spend  Administration  Marketing Spend       State     Profit\n",
       "0  165349.20       136897.80        471784.10    New York  192261.83\n",
       "1  162597.70       151377.59        443898.53  California  191792.06\n",
       "2  153441.51       101145.55        407934.54     Florida  191050.39\n",
       "3  144372.41       118671.85        383199.62    New York  182901.99\n",
       "4  142107.34        91391.77        366168.42     Florida  166187.94"
      ],
      "text/html": "<div>\n<style scoped>\n    .dataframe tbody tr th:only-of-type {\n        vertical-align: middle;\n    }\n\n    .dataframe tbody tr th {\n        vertical-align: top;\n    }\n\n    .dataframe thead th {\n        text-align: right;\n    }\n</style>\n<table border=\"1\" class=\"dataframe\">\n  <thead>\n    <tr style=\"text-align: right;\">\n      <th></th>\n      <th>R&amp;D Spend</th>\n      <th>Administration</th>\n      <th>Marketing Spend</th>\n      <th>State</th>\n      <th>Profit</th>\n    </tr>\n  </thead>\n  <tbody>\n    <tr>\n      <th>0</th>\n      <td>165349.20</td>\n      <td>136897.80</td>\n      <td>471784.10</td>\n      <td>New York</td>\n      <td>192261.83</td>\n    </tr>\n    <tr>\n      <th>1</th>\n      <td>162597.70</td>\n      <td>151377.59</td>\n      <td>443898.53</td>\n      <td>California</td>\n      <td>191792.06</td>\n    </tr>\n    <tr>\n      <th>2</th>\n      <td>153441.51</td>\n      <td>101145.55</td>\n      <td>407934.54</td>\n      <td>Florida</td>\n      <td>191050.39</td>\n    </tr>\n    <tr>\n      <th>3</th>\n      <td>144372.41</td>\n      <td>118671.85</td>\n      <td>383199.62</td>\n      <td>New York</td>\n      <td>182901.99</td>\n    </tr>\n    <tr>\n      <th>4</th>\n      <td>142107.34</td>\n      <td>91391.77</td>\n      <td>366168.42</td>\n      <td>Florida</td>\n      <td>166187.94</td>\n    </tr>\n  </tbody>\n</table>\n</div>"
     },
     "metadata": {},
     "execution_count": 8
    }
   ],
   "source": [
    "# Prints top 5 rows\n",
    "data.head()"
   ]
  },
  {
   "cell_type": "code",
   "execution_count": 9,
   "metadata": {},
   "outputs": [
    {
     "output_type": "execute_result",
     "data": {
      "text/plain": [
       "    R&D Spend  Administration  Marketing Spend       State    Profit\n",
       "45    1000.23       124153.04          1903.93    New York  64926.08\n",
       "46    1315.46       115816.21        297114.46     Florida  49490.75\n",
       "47       0.00       135426.92             0.00  California  42559.73\n",
       "48     542.05        51743.15             0.00    New York  35673.41\n",
       "49       0.00       116983.80         45173.06  California  14681.40"
      ],
      "text/html": "<div>\n<style scoped>\n    .dataframe tbody tr th:only-of-type {\n        vertical-align: middle;\n    }\n\n    .dataframe tbody tr th {\n        vertical-align: top;\n    }\n\n    .dataframe thead th {\n        text-align: right;\n    }\n</style>\n<table border=\"1\" class=\"dataframe\">\n  <thead>\n    <tr style=\"text-align: right;\">\n      <th></th>\n      <th>R&amp;D Spend</th>\n      <th>Administration</th>\n      <th>Marketing Spend</th>\n      <th>State</th>\n      <th>Profit</th>\n    </tr>\n  </thead>\n  <tbody>\n    <tr>\n      <th>45</th>\n      <td>1000.23</td>\n      <td>124153.04</td>\n      <td>1903.93</td>\n      <td>New York</td>\n      <td>64926.08</td>\n    </tr>\n    <tr>\n      <th>46</th>\n      <td>1315.46</td>\n      <td>115816.21</td>\n      <td>297114.46</td>\n      <td>Florida</td>\n      <td>49490.75</td>\n    </tr>\n    <tr>\n      <th>47</th>\n      <td>0.00</td>\n      <td>135426.92</td>\n      <td>0.00</td>\n      <td>California</td>\n      <td>42559.73</td>\n    </tr>\n    <tr>\n      <th>48</th>\n      <td>542.05</td>\n      <td>51743.15</td>\n      <td>0.00</td>\n      <td>New York</td>\n      <td>35673.41</td>\n    </tr>\n    <tr>\n      <th>49</th>\n      <td>0.00</td>\n      <td>116983.80</td>\n      <td>45173.06</td>\n      <td>California</td>\n      <td>14681.40</td>\n    </tr>\n  </tbody>\n</table>\n</div>"
     },
     "metadata": {},
     "execution_count": 9
    }
   ],
   "source": [
    "# Prints last 5 rows\n",
    "data.tail()"
   ]
  },
  {
   "cell_type": "code",
   "execution_count": 13,
   "metadata": {},
   "outputs": [
    {
     "output_type": "execute_result",
     "data": {
      "text/plain": [
       "Index(['R&D Spend', 'Administration', 'Marketing Spend', 'State', 'Profit'], dtype='object')"
      ]
     },
     "metadata": {},
     "execution_count": 13
    }
   ],
   "source": [
    "# Prints all the column names\n",
    "data.columns"
   ]
  },
  {
   "cell_type": "code",
   "execution_count": 15,
   "metadata": {},
   "outputs": [],
   "source": [
    "# Converting from pandas to 1D array then 2D array.\n",
    "y = data['Profit'].values.reshape(-1, 1)"
   ]
  },
  {
   "cell_type": "code",
   "execution_count": 16,
   "metadata": {},
   "outputs": [],
   "source": [
    "# Extracting all the features important for our  target.\n",
    "X = data[['R&D Spend', 'Administration', 'Marketing Spend', 'State']].values"
   ]
  },
  {
   "cell_type": "code",
   "execution_count": 20,
   "metadata": {},
   "outputs": [
    {
     "output_type": "stream",
     "name": "stdout",
     "text": [
      "    R&D Spend  Administration  Marketing Spend       State     Profit\n0   165349.20       136897.80        471784.10    New York  192261.83\n1   162597.70       151377.59        443898.53  California  191792.06\n2   153441.51       101145.55        407934.54     Florida  191050.39\n3   144372.41       118671.85        383199.62    New York  182901.99\n4   142107.34        91391.77        366168.42     Florida  166187.94\n5   131876.90        99814.71        362861.36    New York  156991.12\n6   134615.46       147198.87        127716.82  California  156122.51\n7   130298.13       145530.06        323876.68     Florida  155752.60\n8   120542.52       148718.95        311613.29    New York  152211.77\n9   123334.88       108679.17        304981.62  California  149759.96\n10  101913.08       110594.11        229160.95     Florida  146121.95\n11  100671.96        91790.61        249744.55  California  144259.40\n12   93863.75       127320.38        249839.44     Florida  141585.52\n13   91992.39       135495.07        252664.93  California  134307.35\n14  119943.24       156547.42        256512.92     Florida  132602.65\n15  114523.61       122616.84        261776.23    New York  129917.04\n16   78013.11       121597.55        264346.06  California  126992.93\n17   94657.16       145077.58        282574.31    New York  125370.37\n18   91749.16       114175.79        294919.57     Florida  124266.90\n19   86419.70       153514.11             0.00    New York  122776.86\n20   76253.86       113867.30        298664.47  California  118474.03\n21   78389.47       153773.43        299737.29    New York  111313.02\n22   73994.56       122782.75        303319.26     Florida  110352.25\n23   67532.53       105751.03        304768.73     Florida  108733.99\n24   77044.01        99281.34        140574.81    New York  108552.04\n25   64664.71       139553.16        137962.62  California  107404.34\n26   75328.87       144135.98        134050.07     Florida  105733.54\n27   72107.60       127864.55        353183.81    New York  105008.31\n28   66051.52       182645.56        118148.20     Florida  103282.38\n29   65605.48       153032.06        107138.38    New York  101004.64\n30   61994.48       115641.28         91131.24     Florida   99937.59\n31   61136.38       152701.92         88218.23    New York   97483.56\n32   63408.86       129219.61         46085.25  California   97427.84\n33   55493.95       103057.49        214634.81     Florida   96778.92\n34   46426.07       157693.92        210797.67  California   96712.80\n35   46014.02        85047.44        205517.64    New York   96479.51\n36   28663.76       127056.21        201126.82     Florida   90708.19\n37   44069.95        51283.14        197029.42  California   89949.14\n38   20229.59        65947.93        185265.10    New York   81229.06\n39   38558.51        82982.09        174999.30  California   81005.76\n40   28754.33       118546.05        172795.67  California   78239.91\n41   27892.92        84710.77        164470.71     Florida   77798.83\n42   23640.93        96189.63        148001.11  California   71498.49\n43   15505.73       127382.30         35534.17    New York   69758.98\n44   22177.74       154806.14         28334.72  California   65200.33\n45    1000.23       124153.04          1903.93    New York   64926.08\n46    1315.46       115816.21        297114.46     Florida   49490.75\n47       0.00       135426.92             0.00  California   42559.73\n48     542.05        51743.15             0.00    New York   35673.41\n49       0.00       116983.80         45173.06  California   14681.40\n"
     ]
    },
    {
     "output_type": "execute_result",
     "data": {
      "text/plain": [
       "\"\\nOn analyzing dataset we find that there is one feature called 'State' that contains strings in records.\\n- Label Encoding:\\nHowever, Machine Learning algorithm can't process strings so we need to convert these string records into numeric record by assigning them different 'Numeric Values'. This process is called Label Encoding. \\n\""
      ]
     },
     "metadata": {},
     "execution_count": 20
    }
   ],
   "source": [
    "print(data)\n",
    "'''\n",
    "On analyzing dataset we find that there is one feature called 'State' that contains strings in records.\n",
    "- Label Encoding:\n",
    "However, Machine Learning algorithm can't process strings so we need to convert these string records into numeric record by replace them different 'Numeric Values'. This process is called Label Encoding. \n",
    "'''"
   ]
  },
  {
   "cell_type": "code",
   "execution_count": 22,
   "metadata": {},
   "outputs": [
    {
     "output_type": "stream",
     "name": "stdout",
     "text": [
      "0       New York\n1     California\n2        Florida\n3       New York\n4        Florida\n5       New York\n6     California\n7        Florida\n8       New York\n9     California\n10       Florida\n11    California\n12       Florida\n13    California\n14       Florida\n15      New York\n16    California\n17      New York\n18       Florida\n19      New York\n20    California\n21      New York\n22       Florida\n23       Florida\n24      New York\n25    California\n26       Florida\n27      New York\n28       Florida\n29      New York\n30       Florida\n31      New York\n32    California\n33       Florida\n34    California\n35      New York\n36       Florida\n37    California\n38      New York\n39    California\n40    California\n41       Florida\n42    California\n43      New York\n44    California\n45      New York\n46       Florida\n47    California\n48      New York\n49    California\nName: State, dtype: object\n"
     ]
    }
   ],
   "source": [
    "state = data['State']\n",
    "print(state)"
   ]
  },
  {
   "cell_type": "code",
   "execution_count": 23,
   "metadata": {},
   "outputs": [],
   "source": [
    "# Performing Label Encoding we have Algorithm \n",
    "from sklearn.preprocessing import LabelEncoder"
   ]
  },
  {
   "cell_type": "code",
   "execution_count": 24,
   "metadata": {},
   "outputs": [],
   "source": [
    "state_encoder = LabelEncoder()"
   ]
  },
  {
   "cell_type": "code",
   "execution_count": 25,
   "metadata": {},
   "outputs": [
    {
     "output_type": "execute_result",
     "data": {
      "text/plain": [
       "LabelEncoder()"
      ]
     },
     "metadata": {},
     "execution_count": 25
    }
   ],
   "source": [
    "state_encoder"
   ]
  },
  {
   "cell_type": "code",
   "execution_count": 27,
   "metadata": {},
   "outputs": [],
   "source": [
    "state = state_encoder.fit_transform(state)"
   ]
  },
  {
   "cell_type": "code",
   "execution_count": 28,
   "metadata": {},
   "outputs": [
    {
     "output_type": "stream",
     "name": "stdout",
     "text": [
      "[2 0 1 2 1 2 0 1 2 0 1 0 1 0 1 2 0 2 1 2 0 2 1 1 2 0 1 2 1 2 1 2 0 1 0 2 1\n 0 2 0 0 1 0 2 0 2 1 0 2 0]\n"
     ]
    }
   ],
   "source": [
    "print(state)"
   ]
  },
  {
   "cell_type": "code",
   "execution_count": 30,
   "metadata": {},
   "outputs": [],
   "source": [
    "# sfs"
   ]
  },
  {
   "cell_type": "code",
   "execution_count": 32,
   "metadata": {},
   "outputs": [],
   "source": [
    "from sklearn.preprocessing import OneHotEncoder\n",
    "state_Hencoder = OneHotEncoder()"
   ]
  },
  {
   "cell_type": "code",
   "execution_count": 36,
   "metadata": {},
   "outputs": [],
   "source": [
    "state = state_Hencoder.fit_transform(state.reshape(-1, 1))"
   ]
  },
  {
   "cell_type": "code",
   "execution_count": 37,
   "metadata": {},
   "outputs": [
    {
     "output_type": "execute_result",
     "data": {
      "text/plain": [
       "scipy.sparse.csr.csr_matrix"
      ]
     },
     "metadata": {},
     "execution_count": 37
    }
   ],
   "source": [
    "type(state)"
   ]
  },
  {
   "cell_type": "code",
   "execution_count": 40,
   "metadata": {},
   "outputs": [
    {
     "output_type": "error",
     "ename": "AttributeError",
     "evalue": "'numpy.ndarray' object has no attribute 'toarray'",
     "traceback": [
      "\u001b[0;31m---------------------------------------------------------------------------\u001b[0m",
      "\u001b[0;31mAttributeError\u001b[0m                            Traceback (most recent call last)",
      "\u001b[0;32m<ipython-input-40-57217c963526>\u001b[0m in \u001b[0;36m<module>\u001b[0;34m\u001b[0m\n\u001b[0;32m----> 1\u001b[0;31m \u001b[0mstate\u001b[0m \u001b[0;34m=\u001b[0m \u001b[0mstate\u001b[0m\u001b[0;34m.\u001b[0m\u001b[0mtoarray\u001b[0m\u001b[0;34m(\u001b[0m\u001b[0;34m)\u001b[0m\u001b[0;34m\u001b[0m\u001b[0;34m\u001b[0m\u001b[0m\n\u001b[0m\u001b[1;32m      2\u001b[0m \u001b[0mstate\u001b[0m\u001b[0;34m\u001b[0m\u001b[0;34m\u001b[0m\u001b[0m\n",
      "\u001b[0;31mAttributeError\u001b[0m: 'numpy.ndarray' object has no attribute 'toarray'"
     ]
    }
   ],
   "source": [
    "state = state.toarray()\n"
   ]
  },
  {
   "cell_type": "code",
   "execution_count": 42,
   "metadata": {},
   "outputs": [
    {
     "output_type": "execute_result",
     "data": {
      "text/plain": [
       "array([[0., 0., 1.],\n",
       "       [1., 0., 0.],\n",
       "       [0., 1., 0.],\n",
       "       [0., 0., 1.],\n",
       "       [0., 1., 0.],\n",
       "       [0., 0., 1.],\n",
       "       [1., 0., 0.],\n",
       "       [0., 1., 0.],\n",
       "       [0., 0., 1.],\n",
       "       [1., 0., 0.],\n",
       "       [0., 1., 0.],\n",
       "       [1., 0., 0.],\n",
       "       [0., 1., 0.],\n",
       "       [1., 0., 0.],\n",
       "       [0., 1., 0.],\n",
       "       [0., 0., 1.],\n",
       "       [1., 0., 0.],\n",
       "       [0., 0., 1.],\n",
       "       [0., 1., 0.],\n",
       "       [0., 0., 1.],\n",
       "       [1., 0., 0.],\n",
       "       [0., 0., 1.],\n",
       "       [0., 1., 0.],\n",
       "       [0., 1., 0.],\n",
       "       [0., 0., 1.],\n",
       "       [1., 0., 0.],\n",
       "       [0., 1., 0.],\n",
       "       [0., 0., 1.],\n",
       "       [0., 1., 0.],\n",
       "       [0., 0., 1.],\n",
       "       [0., 1., 0.],\n",
       "       [0., 0., 1.],\n",
       "       [1., 0., 0.],\n",
       "       [0., 1., 0.],\n",
       "       [1., 0., 0.],\n",
       "       [0., 0., 1.],\n",
       "       [0., 1., 0.],\n",
       "       [1., 0., 0.],\n",
       "       [0., 0., 1.],\n",
       "       [1., 0., 0.],\n",
       "       [1., 0., 0.],\n",
       "       [0., 1., 0.],\n",
       "       [1., 0., 0.],\n",
       "       [0., 0., 1.],\n",
       "       [1., 0., 0.],\n",
       "       [0., 0., 1.],\n",
       "       [0., 1., 0.],\n",
       "       [1., 0., 0.],\n",
       "       [0., 0., 1.],\n",
       "       [1., 0., 0.]])"
      ]
     },
     "metadata": {},
     "execution_count": 42
    }
   ],
   "source": [
    "state"
   ]
  },
  {
   "cell_type": "code",
   "execution_count": 43,
   "metadata": {},
   "outputs": [],
   "source": [
    "state = state[:, :2]"
   ]
  },
  {
   "cell_type": "code",
   "execution_count": 44,
   "metadata": {},
   "outputs": [
    {
     "output_type": "execute_result",
     "data": {
      "text/plain": [
       "array([[0., 0.],\n",
       "       [1., 0.],\n",
       "       [0., 1.],\n",
       "       [0., 0.],\n",
       "       [0., 1.],\n",
       "       [0., 0.],\n",
       "       [1., 0.],\n",
       "       [0., 1.],\n",
       "       [0., 0.],\n",
       "       [1., 0.],\n",
       "       [0., 1.],\n",
       "       [1., 0.],\n",
       "       [0., 1.],\n",
       "       [1., 0.],\n",
       "       [0., 1.],\n",
       "       [0., 0.],\n",
       "       [1., 0.],\n",
       "       [0., 0.],\n",
       "       [0., 1.],\n",
       "       [0., 0.],\n",
       "       [1., 0.],\n",
       "       [0., 0.],\n",
       "       [0., 1.],\n",
       "       [0., 1.],\n",
       "       [0., 0.],\n",
       "       [1., 0.],\n",
       "       [0., 1.],\n",
       "       [0., 0.],\n",
       "       [0., 1.],\n",
       "       [0., 0.],\n",
       "       [0., 1.],\n",
       "       [0., 0.],\n",
       "       [1., 0.],\n",
       "       [0., 1.],\n",
       "       [1., 0.],\n",
       "       [0., 0.],\n",
       "       [0., 1.],\n",
       "       [1., 0.],\n",
       "       [0., 0.],\n",
       "       [1., 0.],\n",
       "       [1., 0.],\n",
       "       [0., 1.],\n",
       "       [1., 0.],\n",
       "       [0., 0.],\n",
       "       [1., 0.],\n",
       "       [0., 0.],\n",
       "       [0., 1.],\n",
       "       [1., 0.],\n",
       "       [0., 0.],\n",
       "       [1., 0.]])"
      ]
     },
     "metadata": {},
     "execution_count": 44
    }
   ],
   "source": [
    "state"
   ]
  },
  {
   "cell_type": "code",
   "execution_count": 46,
   "metadata": {},
   "outputs": [],
   "source": [
    "X = X[:, :3] "
   ]
  },
  {
   "cell_type": "code",
   "execution_count": 47,
   "metadata": {},
   "outputs": [
    {
     "output_type": "execute_result",
     "data": {
      "text/plain": [
       "array([[165349.2, 136897.8, 471784.1],\n",
       "       [162597.7, 151377.59, 443898.53],\n",
       "       [153441.51, 101145.55, 407934.54],\n",
       "       [144372.41, 118671.85, 383199.62],\n",
       "       [142107.34, 91391.77, 366168.42],\n",
       "       [131876.9, 99814.71, 362861.36],\n",
       "       [134615.46, 147198.87, 127716.82],\n",
       "       [130298.13, 145530.06, 323876.68],\n",
       "       [120542.52, 148718.95, 311613.29],\n",
       "       [123334.88, 108679.17, 304981.62],\n",
       "       [101913.08, 110594.11, 229160.95],\n",
       "       [100671.96, 91790.61, 249744.55],\n",
       "       [93863.75, 127320.38, 249839.44],\n",
       "       [91992.39, 135495.07, 252664.93],\n",
       "       [119943.24, 156547.42, 256512.92],\n",
       "       [114523.61, 122616.84, 261776.23],\n",
       "       [78013.11, 121597.55, 264346.06],\n",
       "       [94657.16, 145077.58, 282574.31],\n",
       "       [91749.16, 114175.79, 294919.57],\n",
       "       [86419.7, 153514.11, 0.0],\n",
       "       [76253.86, 113867.3, 298664.47],\n",
       "       [78389.47, 153773.43, 299737.29],\n",
       "       [73994.56, 122782.75, 303319.26],\n",
       "       [67532.53, 105751.03, 304768.73],\n",
       "       [77044.01, 99281.34, 140574.81],\n",
       "       [64664.71, 139553.16, 137962.62],\n",
       "       [75328.87, 144135.98, 134050.07],\n",
       "       [72107.6, 127864.55, 353183.81],\n",
       "       [66051.52, 182645.56, 118148.2],\n",
       "       [65605.48, 153032.06, 107138.38],\n",
       "       [61994.48, 115641.28, 91131.24],\n",
       "       [61136.38, 152701.92, 88218.23],\n",
       "       [63408.86, 129219.61, 46085.25],\n",
       "       [55493.95, 103057.49, 214634.81],\n",
       "       [46426.07, 157693.92, 210797.67],\n",
       "       [46014.02, 85047.44, 205517.64],\n",
       "       [28663.76, 127056.21, 201126.82],\n",
       "       [44069.95, 51283.14, 197029.42],\n",
       "       [20229.59, 65947.93, 185265.1],\n",
       "       [38558.51, 82982.09, 174999.3],\n",
       "       [28754.33, 118546.05, 172795.67],\n",
       "       [27892.92, 84710.77, 164470.71],\n",
       "       [23640.93, 96189.63, 148001.11],\n",
       "       [15505.73, 127382.3, 35534.17],\n",
       "       [22177.74, 154806.14, 28334.72],\n",
       "       [1000.23, 124153.04, 1903.93],\n",
       "       [1315.46, 115816.21, 297114.46],\n",
       "       [0.0, 135426.92, 0.0],\n",
       "       [542.05, 51743.15, 0.0],\n",
       "       [0.0, 116983.8, 45173.06]], dtype=object)"
      ]
     },
     "metadata": {},
     "execution_count": 47
    }
   ],
   "source": [
    "X"
   ]
  },
  {
   "cell_type": "code",
   "execution_count": 53,
   "metadata": {},
   "outputs": [],
   "source": [
    "X = np.hstack((X, state))\n"
   ]
  },
  {
   "cell_type": "code",
   "execution_count": 54,
   "metadata": {},
   "outputs": [
    {
     "output_type": "execute_result",
     "data": {
      "text/plain": [
       "LinearRegression()"
      ]
     },
     "metadata": {},
     "execution_count": 54
    }
   ],
   "source": [
    "from sklearn.linear_model import LinearRegression\n",
    "model = LinearRegression()\n",
    "model.fit(X, y)"
   ]
  },
  {
   "cell_type": "code",
   "execution_count": 55,
   "metadata": {},
   "outputs": [
    {
     "output_type": "execute_result",
     "data": {
      "text/plain": [
       "array([[ 8.06023114e-01, -2.70043196e-02,  2.69798610e-02,\n",
       "         4.18870191e+01,  2.40675812e+02]])"
      ]
     },
     "metadata": {},
     "execution_count": 55
    }
   ],
   "source": [
    "model.coef_"
   ]
  },
  {
   "cell_type": "code",
   "execution_count": 56,
   "metadata": {},
   "outputs": [
    {
     "output_type": "execute_result",
     "data": {
      "text/plain": [
       "array([50083.4568125])"
      ]
     },
     "metadata": {},
     "execution_count": 56
    }
   ],
   "source": [
    "model.intercept_"
   ]
  },
  {
   "cell_type": "code",
   "execution_count": null,
   "metadata": {},
   "outputs": [],
   "source": []
  }
 ]
}